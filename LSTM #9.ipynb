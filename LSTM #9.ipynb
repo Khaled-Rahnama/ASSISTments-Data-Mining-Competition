{
 "cells": [
  {
   "cell_type": "markdown",
   "metadata": {},
   "source": [
    "## v8 Checking code and revising the debug files. Ready for debugging \n",
    "### V9 Adding resampling"
   ]
  },
  {
   "cell_type": "code",
   "execution_count": 1,
   "metadata": {},
   "outputs": [
    {
     "name": "stderr",
     "output_type": "stream",
     "text": [
      "Using TensorFlow backend.\n"
     ]
    },
    {
     "data": {
      "text/html": [
       "<script>requirejs.config({paths: { 'plotly': ['https://cdn.plot.ly/plotly-latest.min']},});if(!window.Plotly) {{require(['plotly'],function(plotly) {window.Plotly=plotly;});}}</script>"
      ],
      "text/vnd.plotly.v1+html": [
       "<script>requirejs.config({paths: { 'plotly': ['https://cdn.plot.ly/plotly-latest.min']},});if(!window.Plotly) {{require(['plotly'],function(plotly) {window.Plotly=plotly;});}}</script>"
      ]
     },
     "metadata": {},
     "output_type": "display_data"
    }
   ],
   "source": [
    "%matplotlib inline\n",
    "import warnings\n",
    "warnings.filterwarnings('ignore')\n",
    "from keras.layers import LSTM, Dense\n",
    "from keras.models import Sequential\n",
    "from sklearn.metrics import roc_auc_score\n",
    "from Vis import plot_loss, plot_roc\n",
    "from Preprocessing import Preprocessing\n",
    "from Preprocessing import Cols\n",
    "import numpy as np\n",
    "from keras.preprocessing import sequence\n",
    "from sklearn.model_selection import train_test_split\n",
    "from matplotlib import pyplot as plt\n",
    "from sklearn.preprocessing import RobustScaler, StandardScaler\n",
    "from pandas import DataFrame\n",
    "from pandas import Series\n",
    "import pandas as pd\n",
    "from keras.layers import Dropout\n",
    "from sklearn.preprocessing import OneHotEncoder\n",
    "import numpy as np\n",
    "\n",
    "import plotly.plotly as py\n",
    "import plotly.graph_objs as go\n",
    "from plotly.offline import download_plotlyjs, init_notebook_mode, plot, iplot\n",
    "init_notebook_mode(connected=True)\n",
    "\n",
    "# pandas.set_option('max_columns',10)"
   ]
  },
  {
   "cell_type": "code",
   "execution_count": 2,
   "metadata": {},
   "outputs": [
    {
     "name": "stdout",
     "output_type": "stream",
     "text": [
      "prepared dataset contains: per_stud_dataset + per_action_dataset_summ\n"
     ]
    }
   ],
   "source": [
    "pre = Preprocessing()\n",
    "X, y = pre.load_data(time_gap=300)"
   ]
  },
  {
   "cell_type": "code",
   "execution_count": 3,
   "metadata": {},
   "outputs": [],
   "source": [
    "per_action_dataset = pre.per_action_dataset\n",
    "per_action_dataset.index = per_action_dataset.ITEST_id\n",
    "per_action_dataset = per_action_dataset.drop(['ITEST_id', 'assistmentId', 'problemId', 'assignmentId', 'actionId'], axis=1)"
   ]
  },
  {
   "cell_type": "code",
   "execution_count": 4,
   "metadata": {},
   "outputs": [],
   "source": [
    "# defining sequence length (or number of time-steps) for each student and batch-size\n",
    "max_length_seq = 500"
   ]
  },
  {
   "cell_type": "code",
   "execution_count": 5,
   "metadata": {
    "scrolled": true
   },
   "outputs": [],
   "source": [
    "# show the seq of a sample student (id =9)\n",
    "#per_action_dataset[per_action_dataset.index.get_level_values(0) ==9].head()\n",
    "per_action_dataset.to_csv(\"Debug/1-per_action_dataset.csv\")"
   ]
  },
  {
   "cell_type": "code",
   "execution_count": 6,
   "metadata": {},
   "outputs": [],
   "source": [
    "#truncating seq of each student and only considering his last 500 actions based on startTime feature\n",
    "truncated_input = per_action_dataset.sort_values(\"startTime\",ascending=False).groupby('ITEST_id').head(max_length_seq)\n",
    "truncated_input.to_csv(\"Debug/2-truncated_input.csv\")"
   ]
  },
  {
   "cell_type": "code",
   "execution_count": 7,
   "metadata": {},
   "outputs": [],
   "source": [
    "# data = []\n",
    "# py.sign_in('fnozarian', 'FtJBu0EnwcpKsha1Tu1F')\n",
    "# for col in truncated_input.columns:\n",
    "#     data.append(  go.Box( y=truncated_input[col], name=col, showlegend=False ) )\n",
    "# py.image.save_as(data, filename='a-simple-plot.png')"
   ]
  },
  {
   "cell_type": "code",
   "execution_count": 8,
   "metadata": {},
   "outputs": [],
   "source": [
    "# scaling dataset\n",
    "scaler = StandardScaler()\n",
    "X_scaled = scaler.fit_transform(truncated_input)\n",
    "X_scaled = DataFrame(X_scaled, index=truncated_input.index, columns=truncated_input.columns)\n",
    "#X_scaled[X_scaled.index.get_level_values(0) ==9].head()\n",
    "X_scaled.to_csv(\"Debug/3-X_scaled.csv\")"
   ]
  },
  {
   "cell_type": "code",
   "execution_count": 9,
   "metadata": {},
   "outputs": [],
   "source": [
    "fig, ax = plt.subplots()  # create figure & 1 axis\n",
    "X_scaled.boxplot(X_scaled.columns.difference([\"startTime\", 'endTime']).values.tolist(),ax=ax)\n",
    "fig.set_size_inches(100,100)\n",
    "fig.savefig('X_scaled.png')   # save the figure to file\n",
    "plt.close(fig) "
   ]
  },
  {
   "cell_type": "code",
   "execution_count": 10,
   "metadata": {},
   "outputs": [],
   "source": [
    "batch_size=1"
   ]
  },
  {
   "cell_type": "code",
   "execution_count": 11,
   "metadata": {
    "scrolled": true
   },
   "outputs": [],
   "source": [
    "# padding sequences to have a same length\n",
    "X_padded = []\n",
    "for stud_id, stud_seq in X_scaled.groupby('ITEST_id'):\n",
    "    X_padded.append(stud_seq)\n",
    "X_padded = sequence.pad_sequences(X_padded, max_length_seq, dtype='float64', padding=\"post\", truncating=\"post\", value=9999)"
   ]
  },
  {
   "cell_type": "code",
   "execution_count": 12,
   "metadata": {
    "scrolled": true
   },
   "outputs": [],
   "source": [
    "pd.set_option('max_columns',90)\n",
    "# getting a sense about padded dataset\n",
    "new_seq_ix = pd.Index(list(range(0,max_length_seq))* X_padded.shape[0], name=\"seq_ix\")\n",
    "ITEST_ix = pd.Index(np.repeat(sorted(X_scaled.index.get_level_values(0).unique()), max_length_seq), name='ITEST_id')\n",
    "paddedData = DataFrame(X_padded.reshape(X_padded.shape[0]*X_padded.shape[1], -1), index=[ITEST_ix, new_seq_ix], columns=X_scaled.columns)\n",
    "paddedData.to_csv(\"Debug/4-paddedData.csv\")"
   ]
  },
  {
   "cell_type": "code",
   "execution_count": 13,
   "metadata": {
    "scrolled": true
   },
   "outputs": [],
   "source": [
    "# creating label dataset with index as ITEST_id values\n",
    "label_dataset = pre.label_dataset[['ITEST_id', 'isSTEM']]\n",
    "label_dataset.index = label_dataset.ITEST_id\n",
    "label_dataset = label_dataset.drop(\"ITEST_id\", axis = 1)\n",
    "#label_dataset"
   ]
  },
  {
   "cell_type": "code",
   "execution_count": 14,
   "metadata": {
    "scrolled": true
   },
   "outputs": [],
   "source": [
    "# join label with dataset to make sure we have a consistent dataset\n",
    "# (of course before the training the label column will be droped from data)\n",
    "X_with_label = paddedData.join(label_dataset)\n",
    "#print(X_with_label.shape)\n",
    "X_with_label.to_csv(\"Debug/5-X_with_label.csv\")"
   ]
  },
  {
   "cell_type": "code",
   "execution_count": 15,
   "metadata": {},
   "outputs": [],
   "source": [
    "from sklearn.utils import resample\n",
    "\n",
    "df_majority = X_with_label[X_with_label['isSTEM'] == 0]\n",
    "df_minority = X_with_label[X_with_label['isSTEM'] == 1]\n",
    "\n",
    "minority_len = len(df_minority.index.get_level_values(0).unique())\n",
    "majority_len = len(df_majority.index.get_level_values(0).unique())\n",
    "\n",
    "sampled_df_majority = df_majority.loc[resample(df_majority.index.get_level_values(0).unique(), n_samples=minority_len, replace=False).values]\n",
    "\n",
    "balanced_X = pd.concat([df_minority, sampled_df_majority])"
   ]
  },
  {
   "cell_type": "code",
   "execution_count": 16,
   "metadata": {
    "scrolled": true
   },
   "outputs": [],
   "source": [
    "# y_prepared = X_with_label.groupby(\"ITEST_id\").isSTEM.first().values\n",
    "# X_prepared = X_with_label.drop(\"isSTEM\", axis=1)\n",
    "# X_prepared = X_prepared.values.reshape((-1, max_length_seq, X_prepared.shape[1]))\n",
    "# DataFrame(X_prepared.reshape(X_prepared.shape[0] * X_prepared.shape[1], X_prepared.shape[2]), index=X_with_label.index, columns=X_with_label.columns.difference([\"isSTEM\"])).to_csv(\"Debug/6-X_prepared.csv\")\n",
    "\n",
    "#for balanced dataset only \n",
    "y_prepared = balanced_X.groupby(\"ITEST_id\").isSTEM.first().values\n",
    "X_prepared = balanced_X.drop(\"isSTEM\", axis=1)\n",
    "X_prepared = X_prepared.values.reshape((-1, max_length_seq, X_prepared.shape[1]))\n",
    "\n",
    "# DataFrame(X_prepared.reshape(X_prepared.shape[0] * X_prepared.shape[1], X_prepared.shape[2]), index=X_with_label.index, columns=X_with_label.columns.difference([\"isSTEM\"])).to_csv(\"Debug/6-X_prepared.csv\")"
   ]
  },
  {
   "cell_type": "markdown",
   "metadata": {},
   "source": [
    "## Model"
   ]
  },
  {
   "cell_type": "code",
   "execution_count": 17,
   "metadata": {},
   "outputs": [],
   "source": [
    "from keras.layers import Masking\n",
    "\n",
    "def create_LSTM_model(max_length_seq, feature_size):\n",
    "    # create the LSTM network\n",
    "    model = Sequential()\n",
    "    model.add(Masking(mask_value=9999, input_shape=(max_length_seq, feature_size) ))\n",
    "    model.add(LSTM(200, return_sequences=True))\n",
    "    model.add(LSTM(200))\n",
    "    model.add(Dense(2, activation='softmax'))\n",
    "    model.compile(loss='binary_crossentropy', optimizer='adam', metrics=['accuracy'])\n",
    "    return model"
   ]
  },
  {
   "cell_type": "code",
   "execution_count": 18,
   "metadata": {},
   "outputs": [],
   "source": [
    "# splitting train/test data \n",
    "X_train, X_test, y_train,y_test = train_test_split(X_prepared,y_prepared, train_size=.60)\n",
    "enc = OneHotEncoder()\n",
    "y_train = enc.fit_transform(y_train.reshape(-1,1)).toarray()\n",
    "y_test = enc.fit_transform(y_test.reshape(-1,1)).toarray()"
   ]
  },
  {
   "cell_type": "code",
   "execution_count": 40,
   "metadata": {
    "scrolled": true
   },
   "outputs": [
    {
     "name": "stdout",
     "output_type": "stream",
     "text": [
      "Epoch 1/2\n",
      "140/140 [==============================] - 277s - loss: 0.7381 - acc: 0.5357   \n",
      "Epoch 2/2\n",
      "140/140 [==============================] - 276s - loss: 0.6762 - acc: 0.6786   \n"
     ]
    }
   ],
   "source": [
    "# Create model\n",
    "model = create_LSTM_model(max_length_seq, X_train.shape[2])\n",
    "history = model.fit(X_train, y_train, epochs=2, batch_size=batch_size)"
   ]
  },
  {
   "cell_type": "code",
   "execution_count": 41,
   "metadata": {},
   "outputs": [
    {
     "data": {
      "image/png": "[encoded data removed]",
      "text/plain": [
       "<matplotlib.figure.Figure at 0x7f5acfdcdd68>"
      ]
     },
     "metadata": {},
     "output_type": "display_data"
    },
    {
     "name": "stdout",
     "output_type": "stream",
     "text": [
      "_________________________________________________________________\n",
      "Layer (type)                 Output Shape              Param #   \n",
      "=================================================================\n",
      "masking_2 (Masking)          (None, 500, 47)           0         \n",
      "_________________________________________________________________\n",
      "lstm_3 (LSTM)                (None, 500, 200)          198400    \n",
      "_________________________________________________________________\n",
      "lstm_4 (LSTM)                (None, 200)               320800    \n",
      "_________________________________________________________________\n",
      "dense_2 (Dense)              (None, 2)                 402       \n",
      "=================================================================\n",
      "Total params: 519,602\n",
      "Trainable params: 519,602\n",
      "Non-trainable params: 0\n",
      "_________________________________________________________________\n",
      "None\n",
      "Test ROC Score: 0.430741\n",
      "Test RMSE Score: 0.522108\n",
      "Final Competition Score: 0.908633\n"
     ]
    }
   ],
   "source": [
    "from sklearn.metrics import mean_squared_error\n",
    "from math import sqrt\n",
    "from Vis import plot_accuracy\n",
    "# do prediction\n",
    "y_pred = model.predict(X_test, batch_size=batch_size)\n",
    "\n",
    "# calculating scores\n",
    "roc_score = roc_auc_score(y_test, y_pred)\n",
    "mse_score = mean_squared_error(y_test, y_pred)\n",
    "\n",
    "#printing and plotting model and score information\n",
    "# plot_loss(history)\n",
    "plot_roc(np.argmax(y_test,axis=1), np.argmax(y_pred,axis=1))\n",
    "# plot_accuracy(history)\n",
    "\n",
    "print(model.summary())\n",
    "print(\"Test ROC Score: %f\" % roc_score)\n",
    "print(\"Test RMSE Score: %f\" % sqrt(mse_score))\n",
    "print(\"Final Competition Score: %f\" % (1 - sqrt(mse_score) + roc_score))"
   ]
  }
 ],
 "metadata": {
  "kernelspec": {
   "display_name": "Python 3",
   "language": "python",
   "name": "python3"
  },
  "language_info": {
   "codemirror_mode": {
    "name": "ipython",
    "version": 3
   },
   "file_extension": ".py",
   "mimetype": "text/x-python",
   "name": "python",
   "nbconvert_exporter": "python",
   "pygments_lexer": "ipython3",
   "version": "3.6.3"
  }
 },
 "nbformat": 4,
 "nbformat_minor": 2
}
