{
 "cells": [
  {
   "cell_type": "markdown",
   "metadata": {},
   "source": [
    "## Changelog:\n",
    "\n",
    "* v8 Checking code and revising the debug files. Ready for debugging \n",
    "* V9 Adding resampling\n",
    "* V10 Adding tensorboard\n",
    "* V11 Reducing LSTM layer to 1 in order to have better interpretation in tensorboard\n",
    "* V12 adding actionId to data in order to debug datasets and step better + fixing the wrong column name for x_prepared + **fixing LABEL WRONG!!!!! ASSIENMENT **\n",
    "* V13 removing masking layer and padding with 0 or 9999\n",
    "* V14 removing two outputs\n",
    "* V15 returning the masking layer with mask value 99.\n",
    "    - The result is that without adding masking layer the training accuracy does not increase at all and it remains the same on nearly 50\n",
    "    - however the validation accuracy remains the same around 50 and does not increase while the validation loss is being increased as allways\n",
    "* V16 Changing the optimizer to SGD\n",
    "* V17 Changing the optimizer to rmsprop\n",
    "* V18 Increasing batch size from 1 to higher and coming back the optimizer to Adam (both roc and accuracy on train was about .9 while the accuracy of validation was 0.5\n",
    "* V19 Separating validation set from data and feed to the fit function using validation_data param\n",
    "* V20 Adding another layer of 100 unit\n",
    "* V21 Joining per stud features\n",
    "* V22 removing the sampling"
   ]
  },
  {
   "cell_type": "code",
   "execution_count": 1,
   "metadata": {},
   "outputs": [
    {
     "name": "stderr",
     "output_type": "stream",
     "text": [
      "Using TensorFlow backend.\n"
     ]
    },
    {
     "data": {
      "text/html": [
       "<script>requirejs.config({paths: { 'plotly': ['https://cdn.plot.ly/plotly-latest.min']},});if(!window.Plotly) {{require(['plotly'],function(plotly) {window.Plotly=plotly;});}}</script>"
      ],
      "text/vnd.plotly.v1+html": [
       "<script>requirejs.config({paths: { 'plotly': ['https://cdn.plot.ly/plotly-latest.min']},});if(!window.Plotly) {{require(['plotly'],function(plotly) {window.Plotly=plotly;});}}</script>"
      ]
     },
     "metadata": {},
     "output_type": "display_data"
    }
   ],
   "source": [
    "%matplotlib inline\n",
    "import warnings\n",
    "warnings.filterwarnings('ignore')\n",
    "from keras.layers import LSTM, Dense\n",
    "from keras.models import Sequential\n",
    "from sklearn.metrics import roc_auc_score\n",
    "from Vis import plot_loss, plot_roc\n",
    "from Preprocessing import Preprocessing\n",
    "from Preprocessing import Cols\n",
    "import numpy as np\n",
    "from keras.preprocessing import sequence\n",
    "from sklearn.model_selection import train_test_split\n",
    "from matplotlib import pyplot as plt\n",
    "from sklearn.preprocessing import RobustScaler, StandardScaler\n",
    "from pandas import DataFrame\n",
    "from pandas import Series\n",
    "import pandas as pd\n",
    "from keras.layers import Dropout\n",
    "from sklearn.preprocessing import OneHotEncoder\n",
    "import numpy as np\n",
    "from keras import optimizers\n",
    "import plotly.plotly as py\n",
    "import plotly.graph_objs as go\n",
    "from plotly.offline import download_plotlyjs, init_notebook_mode, plot, iplot\n",
    "init_notebook_mode(connected=True)\n",
    "# pandas.set_option('max_columns',10)\n",
    "import os\n",
    "os.environ[\"CUDA_VISIBLE_DEVICES\"] = \"\""
   ]
  },
  {
   "cell_type": "code",
   "execution_count": 2,
   "metadata": {},
   "outputs": [
    {
     "name": "stdout",
     "output_type": "stream",
     "text": [
      "prepared dataset contains: per_stud_dataset + per_action_dataset_summ\n"
     ]
    }
   ],
   "source": [
    "pre = Preprocessing()\n",
    "X, y = pre.load_data(time_gap=300)"
   ]
  },
  {
   "cell_type": "code",
   "execution_count": 3,
   "metadata": {},
   "outputs": [],
   "source": [
    "per_action_dataset = pre.per_action_dataset\n",
    "per_action_dataset.index = per_action_dataset.ITEST_id\n",
    "per_action_dataset = per_action_dataset.drop(['ITEST_id', 'assistmentId', 'problemId', 'assignmentId', 'actionId'], axis=1)"
   ]
  },
  {
   "cell_type": "code",
   "execution_count": 4,
   "metadata": {
    "scrolled": true
   },
   "outputs": [],
   "source": [
    "per_stud_dataset = pre.per_stud_dataset.drop(\"isSTEM\", axis=1)\n",
    "per_stud_dataset.index = per_stud_dataset.ITEST_id\n",
    "per_stud_dataset = per_stud_dataset.drop(\"ITEST_id\", axis=1)\n",
    "dataset = per_stud_dataset.join(per_action_dataset)"
   ]
  },
  {
   "cell_type": "code",
   "execution_count": 5,
   "metadata": {},
   "outputs": [],
   "source": [
    "# defining sequence length (or number of time-steps) for each student and batch-size\n",
    "max_length_seq = 300"
   ]
  },
  {
   "cell_type": "code",
   "execution_count": 6,
   "metadata": {
    "scrolled": true
   },
   "outputs": [],
   "source": [
    "# show the seq of a sample student (id =9)\n",
    "#per_action_dataset[per_action_dataset.index.get_level_values(0) ==9].head()\n",
    "# per_action_dataset.to_csv(\"Debug/1-per_action_dataset.csv\")"
   ]
  },
  {
   "cell_type": "code",
   "execution_count": 7,
   "metadata": {},
   "outputs": [],
   "source": [
    "#truncating seq of each student and only considering his last 500 actions based on startTime feature\n",
    "truncated_input = dataset.sort_values(\"startTime\",ascending=False).groupby('ITEST_id').head(max_length_seq)\n",
    "# truncated_input.to_csv(\"Debug/2-truncated_input.csv\")"
   ]
  },
  {
   "cell_type": "code",
   "execution_count": 8,
   "metadata": {},
   "outputs": [],
   "source": [
    "# scaling dataset\n",
    "scaler = StandardScaler()\n",
    "X_scaled = scaler.fit_transform(truncated_input)\n",
    "X_scaled = DataFrame(X_scaled, index=truncated_input.index, columns=truncated_input.columns)\n",
    "#X_scaled[X_scaled.index.get_level_values(0) ==9].head()\n",
    "# X_scaled.to_csv(\"Debug/3-X_scaled.csv\")"
   ]
  },
  {
   "cell_type": "code",
   "execution_count": 9,
   "metadata": {},
   "outputs": [],
   "source": [
    "# fig, ax = plt.subplots()  # create figure & 1 axis\n",
    "# X_scaled.boxplot(X_scaled.columns.difference([\"startTime\", 'endTime']).values.tolist(),ax=ax)\n",
    "# fig.set_size_inches(100,100)\n",
    "# fig.savefig('X_scaled.png')   # save the figure to file\n",
    "# plt.close(fig) "
   ]
  },
  {
   "cell_type": "code",
   "execution_count": 10,
   "metadata": {},
   "outputs": [],
   "source": [
    "batch_size=100"
   ]
  },
  {
   "cell_type": "code",
   "execution_count": 11,
   "metadata": {
    "scrolled": true
   },
   "outputs": [],
   "source": [
    "# padding sequences to have a same length\n",
    "X_padded = []\n",
    "for stud_id, stud_seq in X_scaled.groupby('ITEST_id'):\n",
    "    X_padded.append(stud_seq)\n",
    "X_padded = sequence.pad_sequences(X_padded, max_length_seq, dtype='float64', padding=\"post\", truncating=\"post\", value=99.)"
   ]
  },
  {
   "cell_type": "code",
   "execution_count": 12,
   "metadata": {
    "scrolled": true
   },
   "outputs": [],
   "source": [
    "# getting a sense about padded dataset\n",
    "ITEST_ix = pd.Index(np.repeat(sorted(X_scaled.index.get_level_values(0).unique()), max_length_seq), name='ITEST_id')\n",
    "new_seq_ix = pd.Index(list(range(0,max_length_seq))* X_padded.shape[0], name=\"seq_ix\")\n",
    "paddedData = DataFrame(X_padded.reshape(X_padded.shape[0]*X_padded.shape[1], -1), index=[ITEST_ix, new_seq_ix], columns=X_scaled.columns)\n",
    "# paddedData.to_csv(\"Debug/4-paddedData.csv\")"
   ]
  },
  {
   "cell_type": "code",
   "execution_count": 13,
   "metadata": {
    "scrolled": true
   },
   "outputs": [],
   "source": [
    "# creating label dataset with index as ITEST_id values\n",
    "label_dataset = pre.label_dataset[['ITEST_id', 'isSTEM']]\n",
    "label_dataset.index = label_dataset.ITEST_id\n",
    "label_dataset = label_dataset.drop(\"ITEST_id\", axis = 1)\n",
    "#label_dataset"
   ]
  },
  {
   "cell_type": "code",
   "execution_count": 14,
   "metadata": {
    "scrolled": true
   },
   "outputs": [],
   "source": [
    "# join label with dataset to make sure we have a consistent dataset\n",
    "# (of course before the training the label column will be droped from data)\n",
    "X_with_label = paddedData.join(label_dataset)\n",
    "#print(X_with_label.shape)\n",
    "# X_with_label.to_csv(\"Debug/5-X_with_label.csv\")"
   ]
  },
  {
   "cell_type": "code",
   "execution_count": 15,
   "metadata": {},
   "outputs": [],
   "source": [
    "# from sklearn.utils import resample\n",
    "\n",
    "# df_majority = X_with_label[X_with_label['isSTEM'] == 0]\n",
    "# df_minority = X_with_label[X_with_label['isSTEM'] == 1]\n",
    "\n",
    "# minority_len = len(df_minority.index.get_level_values(0).unique())\n",
    "# majority_len = len(df_majority.index.get_level_values(0).unique())\n",
    "\n",
    "# sampled_df_majority = df_majority.loc[resample(df_majority.index.get_level_values(0).unique(), n_samples=minority_len, replace=False).values]\n",
    "\n",
    "# balanced_X = pd.concat([df_minority, sampled_df_majority])"
   ]
  },
  {
   "cell_type": "code",
   "execution_count": 16,
   "metadata": {
    "scrolled": true
   },
   "outputs": [],
   "source": [
    "y_prepared = X_with_label[~X_with_label.index.get_level_values(0).duplicated()]['isSTEM'].values\n",
    "X_prepared = X_with_label.drop(\"isSTEM\", axis=1)\n",
    "X_prepared_columns = X_prepared.columns\n",
    "X_prepared = X_prepared.values.reshape((-1, max_length_seq, X_prepared.shape[1]))\n",
    "# DataFrame(X_prepared.reshape(X_prepared.shape[0] * X_prepared.shape[1], X_prepared.shape[2]), index=X_with_label.index, columns=X_prepared_columns).to_csv(\"Debug/6-X_prepared.csv\")\n",
    "\n",
    "#for balanced dataset only \n",
    "# y_prepared = balanced_X[~balanced_X.index.get_level_values(0).duplicated()]['isSTEM'].values\n",
    "# X_prepared = balanced_X.drop(\"isSTEM\", axis=1)\n",
    "# X_prepared_columns = X_prepared.columns\n",
    "# X_prepared = X_prepared.values.reshape((-1, max_length_seq, X_prepared.shape[1]))\n",
    "\n",
    "# DataFrame(X_prepared.reshape(X_prepared.shape[0] * X_prepared.shape[1], X_prepared.shape[2]), index=balanced_X.index, columns=X_prepared_columns).to_csv(\"Debug/6-X_prepared.csv\")"
   ]
  },
  {
   "cell_type": "markdown",
   "metadata": {},
   "source": [
    "## Model"
   ]
  },
  {
   "cell_type": "code",
   "execution_count": 17,
   "metadata": {},
   "outputs": [],
   "source": [
    "from keras.layers import Masking\n",
    "\n",
    "def create_LSTM_model(max_length_seq, feature_size):\n",
    "    model = Sequential()\n",
    "    model.add(Masking(mask_value=99., input_shape=(max_length_seq, feature_size)))\n",
    "    model.add(LSTM(100, return_sequences=True))\n",
    "    model.add(LSTM(100))\n",
    "    model.add(Dense(1, activation='sigmoid'))\n",
    "#   sgd = optimizers.SGD(lr=0.01, decay=1e-6, momentum=0.9, nesterov=True)\n",
    "    model.compile(loss='binary_crossentropy', optimizer=\"adam\", metrics=['accuracy'])\n",
    "    return model"
   ]
  },
  {
   "cell_type": "code",
   "execution_count": 18,
   "metadata": {},
   "outputs": [],
   "source": [
    "# splitting train/test data \n",
    "X_train, X_test, y_train,y_test = train_test_split(X_prepared,y_prepared, train_size=.77)\n",
    "# enc = OneHotEncoder()\n",
    "# y_train = enc.fit_transform(y_train.reshape(-1,1)).toarray()\n",
    "# y_test = enc.fit_transform(y_test.reshape(-1,1)).toarray()"
   ]
  },
  {
   "cell_type": "code",
   "execution_count": 19,
   "metadata": {},
   "outputs": [],
   "source": [
    "from keras.callbacks import TensorBoard\n",
    "tensorboard_callback = TensorBoard(log_dir='./logs', histogram_freq=1, batch_size=batch_size, write_graph=True, write_grads=True, write_images=False, embeddings_freq=0, embeddings_layer_names=None, embeddings_metadata=None)"
   ]
  },
  {
   "cell_type": "code",
   "execution_count": 20,
   "metadata": {
    "scrolled": true
   },
   "outputs": [
    {
     "name": "stdout",
     "output_type": "stream",
     "text": [
      "Train on 359 samples, validate on 108 samples\n",
      "Epoch 1/50\n",
      "359/359 [==============================] - 9s 25ms/step - loss: 0.6526 - acc: 0.6379 - val_loss: 0.6453 - val_acc: 0.6389\n",
      "Epoch 2/50\n",
      "359/359 [==============================] - 5s 14ms/step - loss: 0.5632 - acc: 0.7326 - val_loss: 0.6549 - val_acc: 0.6852\n",
      "Epoch 3/50\n",
      "359/359 [==============================] - 5s 14ms/step - loss: 0.5116 - acc: 0.7744 - val_loss: 0.6408 - val_acc: 0.6759\n",
      "Epoch 4/50\n",
      "359/359 [==============================] - 5s 14ms/step - loss: 0.4926 - acc: 0.7772 - val_loss: 0.6509 - val_acc: 0.6667\n",
      "Epoch 5/50\n",
      "359/359 [==============================] - 5s 14ms/step - loss: 0.4698 - acc: 0.7799 - val_loss: 0.6727 - val_acc: 0.6852\n",
      "Epoch 6/50\n",
      "359/359 [==============================] - 5s 14ms/step - loss: 0.4543 - acc: 0.7883 - val_loss: 0.6848 - val_acc: 0.6667\n",
      "Epoch 7/50\n",
      "359/359 [==============================] - 5s 14ms/step - loss: 0.4257 - acc: 0.8078 - val_loss: 0.6614 - val_acc: 0.6574\n",
      "Epoch 8/50\n",
      "359/359 [==============================] - 5s 14ms/step - loss: 0.3993 - acc: 0.8384 - val_loss: 0.6616 - val_acc: 0.6574\n",
      "Epoch 9/50\n",
      "359/359 [==============================] - 5s 14ms/step - loss: 0.3702 - acc: 0.8357 - val_loss: 0.7414 - val_acc: 0.6481\n",
      "Epoch 10/50\n",
      "359/359 [==============================] - 5s 14ms/step - loss: 0.3354 - acc: 0.8747 - val_loss: 0.7734 - val_acc: 0.5833\n",
      "Epoch 11/50\n",
      "359/359 [==============================] - 5s 14ms/step - loss: 0.3021 - acc: 0.8969 - val_loss: 0.8800 - val_acc: 0.6481\n",
      "Epoch 12/50\n",
      "359/359 [==============================] - 5s 14ms/step - loss: 0.2736 - acc: 0.8997 - val_loss: 0.8442 - val_acc: 0.5926\n",
      "Epoch 13/50\n",
      "359/359 [==============================] - 5s 14ms/step - loss: 0.2321 - acc: 0.9136 - val_loss: 1.0357 - val_acc: 0.5926\n",
      "Epoch 14/50\n",
      "359/359 [==============================] - 5s 14ms/step - loss: 0.1697 - acc: 0.9359 - val_loss: 1.2418 - val_acc: 0.5833\n",
      "Epoch 15/50\n",
      "359/359 [==============================] - 5s 14ms/step - loss: 0.1232 - acc: 0.9554 - val_loss: 1.3523 - val_acc: 0.6019\n",
      "Epoch 16/50\n",
      "359/359 [==============================] - 5s 14ms/step - loss: 0.0958 - acc: 0.9749 - val_loss: 1.3894 - val_acc: 0.5648\n",
      "Epoch 17/50\n",
      "359/359 [==============================] - 5s 14ms/step - loss: 0.0706 - acc: 0.9861 - val_loss: 1.5951 - val_acc: 0.5556\n",
      "Epoch 18/50\n",
      "359/359 [==============================] - 5s 14ms/step - loss: 0.0609 - acc: 0.9805 - val_loss: 1.5374 - val_acc: 0.6111\n",
      "Epoch 19/50\n",
      "359/359 [==============================] - 5s 14ms/step - loss: 0.0614 - acc: 0.9777 - val_loss: 1.5496 - val_acc: 0.5741\n",
      "Epoch 20/50\n",
      "359/359 [==============================] - 5s 14ms/step - loss: 0.0449 - acc: 0.9944 - val_loss: 1.6053 - val_acc: 0.5833\n",
      "Epoch 21/50\n",
      "359/359 [==============================] - 5s 15ms/step - loss: 0.0389 - acc: 0.9916 - val_loss: 1.5819 - val_acc: 0.5926\n",
      "Epoch 22/50\n",
      "359/359 [==============================] - 5s 14ms/step - loss: 0.0373 - acc: 0.9889 - val_loss: 1.6294 - val_acc: 0.5833\n",
      "Epoch 23/50\n",
      "359/359 [==============================] - 5s 14ms/step - loss: 0.0200 - acc: 1.0000 - val_loss: 1.6980 - val_acc: 0.5741\n",
      "Epoch 24/50\n",
      "359/359 [==============================] - 5s 14ms/step - loss: 0.0163 - acc: 1.0000 - val_loss: 1.7774 - val_acc: 0.5926\n",
      "Epoch 25/50\n",
      "359/359 [==============================] - 5s 14ms/step - loss: 0.0119 - acc: 0.9972 - val_loss: 1.9154 - val_acc: 0.5833\n",
      "Epoch 26/50\n",
      "359/359 [==============================] - 5s 14ms/step - loss: 0.0092 - acc: 0.9972 - val_loss: 1.9653 - val_acc: 0.5370\n",
      "Epoch 27/50\n",
      "359/359 [==============================] - 5s 14ms/step - loss: 0.0111 - acc: 0.9972 - val_loss: 1.9603 - val_acc: 0.5741\n",
      "Epoch 28/50\n",
      "359/359 [==============================] - 5s 14ms/step - loss: 0.0050 - acc: 1.0000 - val_loss: 1.9011 - val_acc: 0.5926\n",
      "Epoch 29/50\n",
      "359/359 [==============================] - 5s 14ms/step - loss: 0.0089 - acc: 0.9972 - val_loss: 1.9990 - val_acc: 0.5926\n",
      "Epoch 30/50\n",
      "359/359 [==============================] - 5s 14ms/step - loss: 0.0042 - acc: 1.0000 - val_loss: 2.0468 - val_acc: 0.5648\n",
      "Epoch 31/50\n",
      "359/359 [==============================] - 5s 14ms/step - loss: 0.0046 - acc: 1.0000 - val_loss: 2.1394 - val_acc: 0.5833\n",
      "Epoch 32/50\n",
      "359/359 [==============================] - 5s 14ms/step - loss: 0.0031 - acc: 1.0000 - val_loss: 2.2152 - val_acc: 0.5833\n",
      "Epoch 33/50\n",
      "359/359 [==============================] - 5s 14ms/step - loss: 0.0026 - acc: 1.0000 - val_loss: 2.2631 - val_acc: 0.5926\n",
      "Epoch 34/50\n",
      "359/359 [==============================] - 5s 14ms/step - loss: 0.0029 - acc: 1.0000 - val_loss: 2.3007 - val_acc: 0.5833\n",
      "Epoch 35/50\n",
      "359/359 [==============================] - 5s 14ms/step - loss: 0.0018 - acc: 1.0000 - val_loss: 2.3257 - val_acc: 0.5833\n",
      "Epoch 36/50\n",
      "359/359 [==============================] - 5s 14ms/step - loss: 0.0018 - acc: 1.0000 - val_loss: 2.3385 - val_acc: 0.5833\n",
      "Epoch 37/50\n",
      "359/359 [==============================] - 5s 14ms/step - loss: 0.0015 - acc: 1.0000 - val_loss: 2.3537 - val_acc: 0.5833\n",
      "Epoch 38/50\n",
      "359/359 [==============================] - 5s 14ms/step - loss: 0.0014 - acc: 1.0000 - val_loss: 2.3737 - val_acc: 0.5833\n",
      "Epoch 39/50\n",
      "359/359 [==============================] - 5s 14ms/step - loss: 0.0013 - acc: 1.0000 - val_loss: 2.3974 - val_acc: 0.5741\n",
      "Epoch 40/50\n",
      "359/359 [==============================] - 5s 14ms/step - loss: 0.0012 - acc: 1.0000 - val_loss: 2.4250 - val_acc: 0.5741\n",
      "Epoch 41/50\n",
      "359/359 [==============================] - 5s 14ms/step - loss: 0.0011 - acc: 1.0000 - val_loss: 2.4518 - val_acc: 0.5648\n",
      "Epoch 42/50\n",
      "359/359 [==============================] - 5s 14ms/step - loss: 0.0010 - acc: 1.0000 - val_loss: 2.4774 - val_acc: 0.5648\n",
      "Epoch 43/50\n",
      "359/359 [==============================] - 5s 14ms/step - loss: 9.8288e-04 - acc: 1.0000 - val_loss: 2.4997 - val_acc: 0.5648\n",
      "Epoch 44/50\n",
      "359/359 [==============================] - 5s 14ms/step - loss: 9.2781e-04 - acc: 1.0000 - val_loss: 2.5195 - val_acc: 0.5648\n",
      "Epoch 45/50\n",
      "359/359 [==============================] - 5s 14ms/step - loss: 8.8423e-04 - acc: 1.0000 - val_loss: 2.5374 - val_acc: 0.5648\n",
      "Epoch 46/50\n",
      "359/359 [==============================] - 5s 14ms/step - loss: 8.4386e-04 - acc: 1.0000 - val_loss: 2.5546 - val_acc: 0.5648\n",
      "Epoch 47/50\n",
      "359/359 [==============================] - 5s 14ms/step - loss: 8.0663e-04 - acc: 1.0000 - val_loss: 2.5698 - val_acc: 0.5648\n",
      "Epoch 48/50\n",
      "359/359 [==============================] - 5s 14ms/step - loss: 7.7141e-04 - acc: 1.0000 - val_loss: 2.5836 - val_acc: 0.5648\n",
      "Epoch 49/50\n",
      "359/359 [==============================] - 5s 14ms/step - loss: 7.3994e-04 - acc: 1.0000 - val_loss: 2.5973 - val_acc: 0.5741\n",
      "Epoch 50/50\n",
      "359/359 [==============================] - 5s 14ms/step - loss: 7.1103e-04 - acc: 1.0000 - val_loss: 2.6109 - val_acc: 0.5741\n"
     ]
    }
   ],
   "source": [
    "# Create model\n",
    "model = create_LSTM_model(max_length_seq, X_train.shape[2])\n",
    "history = model.fit(X_train, y_train, epochs=50, batch_size=batch_size, validation_data= (X_test,y_test), callbacks=[tensorboard_callback])"
   ]
  },
  {
   "cell_type": "code",
   "execution_count": 21,
   "metadata": {},
   "outputs": [
    {
     "data": {
      "image/png": "[encoded data removed]",
      "text/plain": [
       "<matplotlib.figure.Figure at 0x7fd7169ce8d0>"
      ]
     },
     "metadata": {},
     "output_type": "display_data"
    },
    {
     "data": {
      "image/png": "[encoded data removed]",
      "text/plain": [
       "<matplotlib.figure.Figure at 0x7fd6370b5358>"
      ]
     },
     "metadata": {},
     "output_type": "display_data"
    },
    {
     "data": {
      "image/png": "[encoded data removed]",
      "text/plain": [
       "<matplotlib.figure.Figure at 0x7fd6aca94f60>"
      ]
     },
     "metadata": {},
     "output_type": "display_data"
    },
    {
     "name": "stdout",
     "output_type": "stream",
     "text": [
      "_________________________________________________________________\n",
      "Layer (type)                 Output Shape              Param #   \n",
      "=================================================================\n",
      "masking_1 (Masking)          (None, 300, 52)           0         \n",
      "_________________________________________________________________\n",
      "lstm_1 (LSTM)                (None, 300, 100)          61200     \n",
      "_________________________________________________________________\n",
      "lstm_2 (LSTM)                (None, 100)               80400     \n",
      "_________________________________________________________________\n",
      "dense_1 (Dense)              (None, 1)                 101       \n",
      "=================================================================\n",
      "Total params: 141,701\n",
      "Trainable params: 141,701\n",
      "Non-trainable params: 0\n",
      "_________________________________________________________________\n",
      "None\n",
      "Test ROC Score: 0.544423\n",
      "Test RMSE Score: 0.637441\n",
      "Final Competition Score: 0.906981\n"
     ]
    }
   ],
   "source": [
    "from sklearn.metrics import mean_squared_error\n",
    "from math import sqrt\n",
    "from Vis import plot_accuracy\n",
    "# do prediction\n",
    "y_pred = model.predict(X_test, batch_size=batch_size)\n",
    "\n",
    "# calculating scores\n",
    "roc_score = roc_auc_score(y_test, y_pred)\n",
    "mse_score = mean_squared_error(y_test, y_pred)\n",
    "\n",
    "#printing and plotting model and score information\n",
    "plot_loss(history)\n",
    "plot_roc(y_test, y_pred)\n",
    "# plot_roc(np.argmax(y_test,axis=1), np.argmax(y_pred,axis=1))\n",
    "plot_accuracy(history)\n",
    "\n",
    "print(model.summary())\n",
    "print(\"Test ROC Score: %f\" % roc_score)\n",
    "print(\"Test RMSE Score: %f\" % sqrt(mse_score))\n",
    "print(\"Final Competition Score: %f\" % (1 - sqrt(mse_score) + roc_score))"
   ]
  }
 ],
 "metadata": {
  "kernelspec": {
   "display_name": "Python 3",
   "language": "python",
   "name": "python3"
  },
  "language_info": {
   "codemirror_mode": {
    "name": "ipython",
    "version": 3
   },
   "file_extension": ".py",
   "mimetype": "text/x-python",
   "name": "python",
   "nbconvert_exporter": "python",
   "pygments_lexer": "ipython3",
   "version": "3.6.3"
  }
 },
 "nbformat": 4,
 "nbformat_minor": 2
}
